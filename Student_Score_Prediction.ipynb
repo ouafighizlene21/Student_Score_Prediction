{
  "nbformat": 4,
  "nbformat_minor": 0,
  "metadata": {
    "colab": {
      "provenance": [],
      "authorship_tag": "ABX9TyMtzZ7m8NDUvi/f0jbayD2c",
      "include_colab_link": true
    },
    "kernelspec": {
      "name": "python3",
      "display_name": "Python 3"
    },
    "language_info": {
      "name": "python"
    }
  },
  "cells": [
    {
      "cell_type": "markdown",
      "metadata": {
        "id": "view-in-github",
        "colab_type": "text"
      },
      "source": [
        "<a href=\"https://colab.research.google.com/github/ouafighizlene21/Student_Score_Prediction.ipynb/blob/main/Student_Score_Prediction.ipynb\" target=\"_parent\"><img src=\"https://colab.research.google.com/assets/colab-badge.svg\" alt=\"Open In Colab\"/></a>"
      ]
    },
    {
      "cell_type": "markdown",
      "source": [
        "## 📚 Importation des librairies nécessaires\n",
        "## Ce bloc contient toutes les bibliothèques utiles pour manipuler les données,\n",
        "## visualiser les résultats et créer nos modèles de régression.\n",
        "\n",
        "## 📚 Importing required libraries\n",
        "## This block includes all the essential libraries to handle data,\n",
        "## visualize results, and build our regression models."
      ],
      "metadata": {
        "id": "ehMkjhvzqNu9"
      }
    },
    {
      "cell_type": "code",
      "execution_count": 1,
      "metadata": {
        "id": "ImtqcFdzOCHI"
      },
      "outputs": [],
      "source": [
        "# Import des librairies\n",
        "import pandas as pd\n",
        "import numpy as np\n",
        "import matplotlib.pyplot as plt\n",
        "from sklearn.model_selection import train_test_split\n",
        "from sklearn.preprocessing import PolynomialFeatures, StandardScaler\n",
        "from sklearn.linear_model import LinearRegression\n",
        "from sklearn.metrics import mean_squared_error, r2_score\n"
      ]
    },
    {
      "cell_type": "markdown",
      "source": [
        "## 💾 Chargement du fichier depuis votre ordinateur\n",
        "## Cette commande ouvre une fenêtre pour téléverser (uploader) un fichier local,\n",
        "## comme votre dataset téléchargé depuis Kaggle (ex: archive.zip).\n",
        "## 💾 Uploading the file from your computer\n",
        "## This command opens a window to upload a local file,\n",
        "## such as your dataset downloaded from Kaggle (e.g., archive.zip).\n"
      ],
      "metadata": {
        "id": "IcgPib9xqwtE"
      }
    },
    {
      "cell_type": "code",
      "source": [
        "from google.colab import files\n",
        "uploaded = files.upload()\n"
      ],
      "metadata": {
        "colab": {
          "base_uri": "https://localhost:8080/",
          "height": 73
        },
        "id": "QvwVbUXnRfs0",
        "outputId": "d76c9f55-a46d-4a68-e05f-a5d9deca25e4"
      },
      "execution_count": 65,
      "outputs": [
        {
          "output_type": "display_data",
          "data": {
            "text/plain": [
              "<IPython.core.display.HTML object>"
            ],
            "text/html": [
              "\n",
              "     <input type=\"file\" id=\"files-1b49561c-b2b2-4c3f-b53c-50ea1df31920\" name=\"files[]\" multiple disabled\n",
              "        style=\"border:none\" />\n",
              "     <output id=\"result-1b49561c-b2b2-4c3f-b53c-50ea1df31920\">\n",
              "      Upload widget is only available when the cell has been executed in the\n",
              "      current browser session. Please rerun this cell to enable.\n",
              "      </output>\n",
              "      <script>// Copyright 2017 Google LLC\n",
              "//\n",
              "// Licensed under the Apache License, Version 2.0 (the \"License\");\n",
              "// you may not use this file except in compliance with the License.\n",
              "// You may obtain a copy of the License at\n",
              "//\n",
              "//      http://www.apache.org/licenses/LICENSE-2.0\n",
              "//\n",
              "// Unless required by applicable law or agreed to in writing, software\n",
              "// distributed under the License is distributed on an \"AS IS\" BASIS,\n",
              "// WITHOUT WARRANTIES OR CONDITIONS OF ANY KIND, either express or implied.\n",
              "// See the License for the specific language governing permissions and\n",
              "// limitations under the License.\n",
              "\n",
              "/**\n",
              " * @fileoverview Helpers for google.colab Python module.\n",
              " */\n",
              "(function(scope) {\n",
              "function span(text, styleAttributes = {}) {\n",
              "  const element = document.createElement('span');\n",
              "  element.textContent = text;\n",
              "  for (const key of Object.keys(styleAttributes)) {\n",
              "    element.style[key] = styleAttributes[key];\n",
              "  }\n",
              "  return element;\n",
              "}\n",
              "\n",
              "// Max number of bytes which will be uploaded at a time.\n",
              "const MAX_PAYLOAD_SIZE = 100 * 1024;\n",
              "\n",
              "function _uploadFiles(inputId, outputId) {\n",
              "  const steps = uploadFilesStep(inputId, outputId);\n",
              "  const outputElement = document.getElementById(outputId);\n",
              "  // Cache steps on the outputElement to make it available for the next call\n",
              "  // to uploadFilesContinue from Python.\n",
              "  outputElement.steps = steps;\n",
              "\n",
              "  return _uploadFilesContinue(outputId);\n",
              "}\n",
              "\n",
              "// This is roughly an async generator (not supported in the browser yet),\n",
              "// where there are multiple asynchronous steps and the Python side is going\n",
              "// to poll for completion of each step.\n",
              "// This uses a Promise to block the python side on completion of each step,\n",
              "// then passes the result of the previous step as the input to the next step.\n",
              "function _uploadFilesContinue(outputId) {\n",
              "  const outputElement = document.getElementById(outputId);\n",
              "  const steps = outputElement.steps;\n",
              "\n",
              "  const next = steps.next(outputElement.lastPromiseValue);\n",
              "  return Promise.resolve(next.value.promise).then((value) => {\n",
              "    // Cache the last promise value to make it available to the next\n",
              "    // step of the generator.\n",
              "    outputElement.lastPromiseValue = value;\n",
              "    return next.value.response;\n",
              "  });\n",
              "}\n",
              "\n",
              "/**\n",
              " * Generator function which is called between each async step of the upload\n",
              " * process.\n",
              " * @param {string} inputId Element ID of the input file picker element.\n",
              " * @param {string} outputId Element ID of the output display.\n",
              " * @return {!Iterable<!Object>} Iterable of next steps.\n",
              " */\n",
              "function* uploadFilesStep(inputId, outputId) {\n",
              "  const inputElement = document.getElementById(inputId);\n",
              "  inputElement.disabled = false;\n",
              "\n",
              "  const outputElement = document.getElementById(outputId);\n",
              "  outputElement.innerHTML = '';\n",
              "\n",
              "  const pickedPromise = new Promise((resolve) => {\n",
              "    inputElement.addEventListener('change', (e) => {\n",
              "      resolve(e.target.files);\n",
              "    });\n",
              "  });\n",
              "\n",
              "  const cancel = document.createElement('button');\n",
              "  inputElement.parentElement.appendChild(cancel);\n",
              "  cancel.textContent = 'Cancel upload';\n",
              "  const cancelPromise = new Promise((resolve) => {\n",
              "    cancel.onclick = () => {\n",
              "      resolve(null);\n",
              "    };\n",
              "  });\n",
              "\n",
              "  // Wait for the user to pick the files.\n",
              "  const files = yield {\n",
              "    promise: Promise.race([pickedPromise, cancelPromise]),\n",
              "    response: {\n",
              "      action: 'starting',\n",
              "    }\n",
              "  };\n",
              "\n",
              "  cancel.remove();\n",
              "\n",
              "  // Disable the input element since further picks are not allowed.\n",
              "  inputElement.disabled = true;\n",
              "\n",
              "  if (!files) {\n",
              "    return {\n",
              "      response: {\n",
              "        action: 'complete',\n",
              "      }\n",
              "    };\n",
              "  }\n",
              "\n",
              "  for (const file of files) {\n",
              "    const li = document.createElement('li');\n",
              "    li.append(span(file.name, {fontWeight: 'bold'}));\n",
              "    li.append(span(\n",
              "        `(${file.type || 'n/a'}) - ${file.size} bytes, ` +\n",
              "        `last modified: ${\n",
              "            file.lastModifiedDate ? file.lastModifiedDate.toLocaleDateString() :\n",
              "                                    'n/a'} - `));\n",
              "    const percent = span('0% done');\n",
              "    li.appendChild(percent);\n",
              "\n",
              "    outputElement.appendChild(li);\n",
              "\n",
              "    const fileDataPromise = new Promise((resolve) => {\n",
              "      const reader = new FileReader();\n",
              "      reader.onload = (e) => {\n",
              "        resolve(e.target.result);\n",
              "      };\n",
              "      reader.readAsArrayBuffer(file);\n",
              "    });\n",
              "    // Wait for the data to be ready.\n",
              "    let fileData = yield {\n",
              "      promise: fileDataPromise,\n",
              "      response: {\n",
              "        action: 'continue',\n",
              "      }\n",
              "    };\n",
              "\n",
              "    // Use a chunked sending to avoid message size limits. See b/62115660.\n",
              "    let position = 0;\n",
              "    do {\n",
              "      const length = Math.min(fileData.byteLength - position, MAX_PAYLOAD_SIZE);\n",
              "      const chunk = new Uint8Array(fileData, position, length);\n",
              "      position += length;\n",
              "\n",
              "      const base64 = btoa(String.fromCharCode.apply(null, chunk));\n",
              "      yield {\n",
              "        response: {\n",
              "          action: 'append',\n",
              "          file: file.name,\n",
              "          data: base64,\n",
              "        },\n",
              "      };\n",
              "\n",
              "      let percentDone = fileData.byteLength === 0 ?\n",
              "          100 :\n",
              "          Math.round((position / fileData.byteLength) * 100);\n",
              "      percent.textContent = `${percentDone}% done`;\n",
              "\n",
              "    } while (position < fileData.byteLength);\n",
              "  }\n",
              "\n",
              "  // All done.\n",
              "  yield {\n",
              "    response: {\n",
              "      action: 'complete',\n",
              "    }\n",
              "  };\n",
              "}\n",
              "\n",
              "scope.google = scope.google || {};\n",
              "scope.google.colab = scope.google.colab || {};\n",
              "scope.google.colab._files = {\n",
              "  _uploadFiles,\n",
              "  _uploadFilesContinue,\n",
              "};\n",
              "})(self);\n",
              "</script> "
            ]
          },
          "metadata": {}
        },
        {
          "output_type": "stream",
          "name": "stdout",
          "text": [
            "Saving archive.zip to archive (1).zip\n"
          ]
        }
      ]
    },
    {
      "cell_type": "code",
      "source": [
        "import zipfile\n",
        "\n",
        "# Décompression du fichier archive.zip\n",
        "with zipfile.ZipFile(\"archive.zip\", 'r') as zip_ref:\n",
        "    zip_ref.extractall(\"data\")\n",
        "\n",
        "print(\"✅ Fichiers extraits dans le dossier 'data'\")\n"
      ],
      "metadata": {
        "colab": {
          "base_uri": "https://localhost:8080/"
        },
        "id": "kCAO1E_iRn-W",
        "outputId": "ee4835f8-d821-414a-a672-55574d15d224"
      },
      "execution_count": 66,
      "outputs": [
        {
          "output_type": "stream",
          "name": "stdout",
          "text": [
            "✅ Fichiers extraits dans le dossier 'data'\n"
          ]
        }
      ]
    },
    {
      "cell_type": "markdown",
      "source": [
        "## 📂 Vérification du contenu du dossier 'data'\n",
        "## Cette commande permet d'afficher la liste des fichiers extraits ou disponibles dans le dossier.\n",
        "##\n",
        "## 📂 Checking the content of the 'data' folder\n",
        "## This command displays the list of extracted or available files inside the folder.\n"
      ],
      "metadata": {
        "id": "wX_wk8gMrHDI"
      }
    },
    {
      "cell_type": "code",
      "source": [
        "import os\n",
        "print(os.listdir(\"data\"))\n"
      ],
      "metadata": {
        "colab": {
          "base_uri": "https://localhost:8080/"
        },
        "id": "SpJ1jvPoPNN-",
        "outputId": "892bb5bd-abd8-45e0-d010-822719ace103"
      },
      "execution_count": 67,
      "outputs": [
        {
          "output_type": "stream",
          "name": "stdout",
          "text": [
            "['StudentPerformanceFactors.csv']\n"
          ]
        }
      ]
    },
    {
      "cell_type": "markdown",
      "source": [
        "## 📊 Chargement du dataset dans un DataFrame pandas\n",
        "## Ici, on lit le fichier CSV contenant les données sur la performance des étudiants.\n",
        "## Remplace le nom du fichier par celui affiché lors de la vérification du dossier.\n",
        "## 📊 Loading the dataset into a pandas DataFrame\n",
        "## Here we read the CSV file containing the student performance data.\n",
        "## Replace the filename with the one shown when checking the folder content."
      ],
      "metadata": {
        "id": "ugrJ2k3jrUmW"
      }
    },
    {
      "cell_type": "code",
      "source": [
        "import pandas as pd\n",
        "\n",
        "# Remplace ici par le vrai nom du fichier affiché\n",
        "df = pd.read_csv(\"data/StudentPerformanceFactors.csv\")\n",
        "\n",
        "# Aperçu du dataset\n",
        "df.head()\n"
      ],
      "metadata": {
        "colab": {
          "base_uri": "https://localhost:8080/",
          "height": 226
        },
        "id": "rilbewmoStys",
        "outputId": "97c47df7-198e-4f5f-ce2e-591e90164bdc"
      },
      "execution_count": 68,
      "outputs": [
        {
          "output_type": "execute_result",
          "data": {
            "text/plain": [
              "   Hours_Studied  Attendance Parental_Involvement Access_to_Resources  \\\n",
              "0             23          84                  Low                High   \n",
              "1             19          64                  Low              Medium   \n",
              "2             24          98               Medium              Medium   \n",
              "3             29          89                  Low              Medium   \n",
              "4             19          92               Medium              Medium   \n",
              "\n",
              "  Extracurricular_Activities  Sleep_Hours  Previous_Scores Motivation_Level  \\\n",
              "0                         No            7               73              Low   \n",
              "1                         No            8               59              Low   \n",
              "2                        Yes            7               91           Medium   \n",
              "3                        Yes            8               98           Medium   \n",
              "4                        Yes            6               65           Medium   \n",
              "\n",
              "  Internet_Access  Tutoring_Sessions Family_Income Teacher_Quality  \\\n",
              "0             Yes                  0           Low          Medium   \n",
              "1             Yes                  2        Medium          Medium   \n",
              "2             Yes                  2        Medium          Medium   \n",
              "3             Yes                  1        Medium          Medium   \n",
              "4             Yes                  3        Medium            High   \n",
              "\n",
              "  School_Type Peer_Influence  Physical_Activity Learning_Disabilities  \\\n",
              "0      Public       Positive                  3                    No   \n",
              "1      Public       Negative                  4                    No   \n",
              "2      Public        Neutral                  4                    No   \n",
              "3      Public       Negative                  4                    No   \n",
              "4      Public        Neutral                  4                    No   \n",
              "\n",
              "  Parental_Education_Level Distance_from_Home  Gender  Exam_Score  \n",
              "0              High School               Near    Male          67  \n",
              "1                  College           Moderate  Female          61  \n",
              "2             Postgraduate               Near    Male          74  \n",
              "3              High School           Moderate    Male          71  \n",
              "4                  College               Near  Female          70  "
            ],
            "text/html": [
              "\n",
              "  <div id=\"df-210adb23-d01a-482c-89f4-7106cf3a6d6b\" class=\"colab-df-container\">\n",
              "    <div>\n",
              "<style scoped>\n",
              "    .dataframe tbody tr th:only-of-type {\n",
              "        vertical-align: middle;\n",
              "    }\n",
              "\n",
              "    .dataframe tbody tr th {\n",
              "        vertical-align: top;\n",
              "    }\n",
              "\n",
              "    .dataframe thead th {\n",
              "        text-align: right;\n",
              "    }\n",
              "</style>\n",
              "<table border=\"1\" class=\"dataframe\">\n",
              "  <thead>\n",
              "    <tr style=\"text-align: right;\">\n",
              "      <th></th>\n",
              "      <th>Hours_Studied</th>\n",
              "      <th>Attendance</th>\n",
              "      <th>Parental_Involvement</th>\n",
              "      <th>Access_to_Resources</th>\n",
              "      <th>Extracurricular_Activities</th>\n",
              "      <th>Sleep_Hours</th>\n",
              "      <th>Previous_Scores</th>\n",
              "      <th>Motivation_Level</th>\n",
              "      <th>Internet_Access</th>\n",
              "      <th>Tutoring_Sessions</th>\n",
              "      <th>Family_Income</th>\n",
              "      <th>Teacher_Quality</th>\n",
              "      <th>School_Type</th>\n",
              "      <th>Peer_Influence</th>\n",
              "      <th>Physical_Activity</th>\n",
              "      <th>Learning_Disabilities</th>\n",
              "      <th>Parental_Education_Level</th>\n",
              "      <th>Distance_from_Home</th>\n",
              "      <th>Gender</th>\n",
              "      <th>Exam_Score</th>\n",
              "    </tr>\n",
              "  </thead>\n",
              "  <tbody>\n",
              "    <tr>\n",
              "      <th>0</th>\n",
              "      <td>23</td>\n",
              "      <td>84</td>\n",
              "      <td>Low</td>\n",
              "      <td>High</td>\n",
              "      <td>No</td>\n",
              "      <td>7</td>\n",
              "      <td>73</td>\n",
              "      <td>Low</td>\n",
              "      <td>Yes</td>\n",
              "      <td>0</td>\n",
              "      <td>Low</td>\n",
              "      <td>Medium</td>\n",
              "      <td>Public</td>\n",
              "      <td>Positive</td>\n",
              "      <td>3</td>\n",
              "      <td>No</td>\n",
              "      <td>High School</td>\n",
              "      <td>Near</td>\n",
              "      <td>Male</td>\n",
              "      <td>67</td>\n",
              "    </tr>\n",
              "    <tr>\n",
              "      <th>1</th>\n",
              "      <td>19</td>\n",
              "      <td>64</td>\n",
              "      <td>Low</td>\n",
              "      <td>Medium</td>\n",
              "      <td>No</td>\n",
              "      <td>8</td>\n",
              "      <td>59</td>\n",
              "      <td>Low</td>\n",
              "      <td>Yes</td>\n",
              "      <td>2</td>\n",
              "      <td>Medium</td>\n",
              "      <td>Medium</td>\n",
              "      <td>Public</td>\n",
              "      <td>Negative</td>\n",
              "      <td>4</td>\n",
              "      <td>No</td>\n",
              "      <td>College</td>\n",
              "      <td>Moderate</td>\n",
              "      <td>Female</td>\n",
              "      <td>61</td>\n",
              "    </tr>\n",
              "    <tr>\n",
              "      <th>2</th>\n",
              "      <td>24</td>\n",
              "      <td>98</td>\n",
              "      <td>Medium</td>\n",
              "      <td>Medium</td>\n",
              "      <td>Yes</td>\n",
              "      <td>7</td>\n",
              "      <td>91</td>\n",
              "      <td>Medium</td>\n",
              "      <td>Yes</td>\n",
              "      <td>2</td>\n",
              "      <td>Medium</td>\n",
              "      <td>Medium</td>\n",
              "      <td>Public</td>\n",
              "      <td>Neutral</td>\n",
              "      <td>4</td>\n",
              "      <td>No</td>\n",
              "      <td>Postgraduate</td>\n",
              "      <td>Near</td>\n",
              "      <td>Male</td>\n",
              "      <td>74</td>\n",
              "    </tr>\n",
              "    <tr>\n",
              "      <th>3</th>\n",
              "      <td>29</td>\n",
              "      <td>89</td>\n",
              "      <td>Low</td>\n",
              "      <td>Medium</td>\n",
              "      <td>Yes</td>\n",
              "      <td>8</td>\n",
              "      <td>98</td>\n",
              "      <td>Medium</td>\n",
              "      <td>Yes</td>\n",
              "      <td>1</td>\n",
              "      <td>Medium</td>\n",
              "      <td>Medium</td>\n",
              "      <td>Public</td>\n",
              "      <td>Negative</td>\n",
              "      <td>4</td>\n",
              "      <td>No</td>\n",
              "      <td>High School</td>\n",
              "      <td>Moderate</td>\n",
              "      <td>Male</td>\n",
              "      <td>71</td>\n",
              "    </tr>\n",
              "    <tr>\n",
              "      <th>4</th>\n",
              "      <td>19</td>\n",
              "      <td>92</td>\n",
              "      <td>Medium</td>\n",
              "      <td>Medium</td>\n",
              "      <td>Yes</td>\n",
              "      <td>6</td>\n",
              "      <td>65</td>\n",
              "      <td>Medium</td>\n",
              "      <td>Yes</td>\n",
              "      <td>3</td>\n",
              "      <td>Medium</td>\n",
              "      <td>High</td>\n",
              "      <td>Public</td>\n",
              "      <td>Neutral</td>\n",
              "      <td>4</td>\n",
              "      <td>No</td>\n",
              "      <td>College</td>\n",
              "      <td>Near</td>\n",
              "      <td>Female</td>\n",
              "      <td>70</td>\n",
              "    </tr>\n",
              "  </tbody>\n",
              "</table>\n",
              "</div>\n",
              "    <div class=\"colab-df-buttons\">\n",
              "\n",
              "  <div class=\"colab-df-container\">\n",
              "    <button class=\"colab-df-convert\" onclick=\"convertToInteractive('df-210adb23-d01a-482c-89f4-7106cf3a6d6b')\"\n",
              "            title=\"Convert this dataframe to an interactive table.\"\n",
              "            style=\"display:none;\">\n",
              "\n",
              "  <svg xmlns=\"http://www.w3.org/2000/svg\" height=\"24px\" viewBox=\"0 -960 960 960\">\n",
              "    <path d=\"M120-120v-720h720v720H120Zm60-500h600v-160H180v160Zm220 220h160v-160H400v160Zm0 220h160v-160H400v160ZM180-400h160v-160H180v160Zm440 0h160v-160H620v160ZM180-180h160v-160H180v160Zm440 0h160v-160H620v160Z\"/>\n",
              "  </svg>\n",
              "    </button>\n",
              "\n",
              "  <style>\n",
              "    .colab-df-container {\n",
              "      display:flex;\n",
              "      gap: 12px;\n",
              "    }\n",
              "\n",
              "    .colab-df-convert {\n",
              "      background-color: #E8F0FE;\n",
              "      border: none;\n",
              "      border-radius: 50%;\n",
              "      cursor: pointer;\n",
              "      display: none;\n",
              "      fill: #1967D2;\n",
              "      height: 32px;\n",
              "      padding: 0 0 0 0;\n",
              "      width: 32px;\n",
              "    }\n",
              "\n",
              "    .colab-df-convert:hover {\n",
              "      background-color: #E2EBFA;\n",
              "      box-shadow: 0px 1px 2px rgba(60, 64, 67, 0.3), 0px 1px 3px 1px rgba(60, 64, 67, 0.15);\n",
              "      fill: #174EA6;\n",
              "    }\n",
              "\n",
              "    .colab-df-buttons div {\n",
              "      margin-bottom: 4px;\n",
              "    }\n",
              "\n",
              "    [theme=dark] .colab-df-convert {\n",
              "      background-color: #3B4455;\n",
              "      fill: #D2E3FC;\n",
              "    }\n",
              "\n",
              "    [theme=dark] .colab-df-convert:hover {\n",
              "      background-color: #434B5C;\n",
              "      box-shadow: 0px 1px 3px 1px rgba(0, 0, 0, 0.15);\n",
              "      filter: drop-shadow(0px 1px 2px rgba(0, 0, 0, 0.3));\n",
              "      fill: #FFFFFF;\n",
              "    }\n",
              "  </style>\n",
              "\n",
              "    <script>\n",
              "      const buttonEl =\n",
              "        document.querySelector('#df-210adb23-d01a-482c-89f4-7106cf3a6d6b button.colab-df-convert');\n",
              "      buttonEl.style.display =\n",
              "        google.colab.kernel.accessAllowed ? 'block' : 'none';\n",
              "\n",
              "      async function convertToInteractive(key) {\n",
              "        const element = document.querySelector('#df-210adb23-d01a-482c-89f4-7106cf3a6d6b');\n",
              "        const dataTable =\n",
              "          await google.colab.kernel.invokeFunction('convertToInteractive',\n",
              "                                                    [key], {});\n",
              "        if (!dataTable) return;\n",
              "\n",
              "        const docLinkHtml = 'Like what you see? Visit the ' +\n",
              "          '<a target=\"_blank\" href=https://colab.research.google.com/notebooks/data_table.ipynb>data table notebook</a>'\n",
              "          + ' to learn more about interactive tables.';\n",
              "        element.innerHTML = '';\n",
              "        dataTable['output_type'] = 'display_data';\n",
              "        await google.colab.output.renderOutput(dataTable, element);\n",
              "        const docLink = document.createElement('div');\n",
              "        docLink.innerHTML = docLinkHtml;\n",
              "        element.appendChild(docLink);\n",
              "      }\n",
              "    </script>\n",
              "  </div>\n",
              "\n",
              "\n",
              "    <div id=\"df-e67521b4-1306-4c88-aa15-4aea3b60bb73\">\n",
              "      <button class=\"colab-df-quickchart\" onclick=\"quickchart('df-e67521b4-1306-4c88-aa15-4aea3b60bb73')\"\n",
              "                title=\"Suggest charts\"\n",
              "                style=\"display:none;\">\n",
              "\n",
              "<svg xmlns=\"http://www.w3.org/2000/svg\" height=\"24px\"viewBox=\"0 0 24 24\"\n",
              "     width=\"24px\">\n",
              "    <g>\n",
              "        <path d=\"M19 3H5c-1.1 0-2 .9-2 2v14c0 1.1.9 2 2 2h14c1.1 0 2-.9 2-2V5c0-1.1-.9-2-2-2zM9 17H7v-7h2v7zm4 0h-2V7h2v10zm4 0h-2v-4h2v4z\"/>\n",
              "    </g>\n",
              "</svg>\n",
              "      </button>\n",
              "\n",
              "<style>\n",
              "  .colab-df-quickchart {\n",
              "      --bg-color: #E8F0FE;\n",
              "      --fill-color: #1967D2;\n",
              "      --hover-bg-color: #E2EBFA;\n",
              "      --hover-fill-color: #174EA6;\n",
              "      --disabled-fill-color: #AAA;\n",
              "      --disabled-bg-color: #DDD;\n",
              "  }\n",
              "\n",
              "  [theme=dark] .colab-df-quickchart {\n",
              "      --bg-color: #3B4455;\n",
              "      --fill-color: #D2E3FC;\n",
              "      --hover-bg-color: #434B5C;\n",
              "      --hover-fill-color: #FFFFFF;\n",
              "      --disabled-bg-color: #3B4455;\n",
              "      --disabled-fill-color: #666;\n",
              "  }\n",
              "\n",
              "  .colab-df-quickchart {\n",
              "    background-color: var(--bg-color);\n",
              "    border: none;\n",
              "    border-radius: 50%;\n",
              "    cursor: pointer;\n",
              "    display: none;\n",
              "    fill: var(--fill-color);\n",
              "    height: 32px;\n",
              "    padding: 0;\n",
              "    width: 32px;\n",
              "  }\n",
              "\n",
              "  .colab-df-quickchart:hover {\n",
              "    background-color: var(--hover-bg-color);\n",
              "    box-shadow: 0 1px 2px rgba(60, 64, 67, 0.3), 0 1px 3px 1px rgba(60, 64, 67, 0.15);\n",
              "    fill: var(--button-hover-fill-color);\n",
              "  }\n",
              "\n",
              "  .colab-df-quickchart-complete:disabled,\n",
              "  .colab-df-quickchart-complete:disabled:hover {\n",
              "    background-color: var(--disabled-bg-color);\n",
              "    fill: var(--disabled-fill-color);\n",
              "    box-shadow: none;\n",
              "  }\n",
              "\n",
              "  .colab-df-spinner {\n",
              "    border: 2px solid var(--fill-color);\n",
              "    border-color: transparent;\n",
              "    border-bottom-color: var(--fill-color);\n",
              "    animation:\n",
              "      spin 1s steps(1) infinite;\n",
              "  }\n",
              "\n",
              "  @keyframes spin {\n",
              "    0% {\n",
              "      border-color: transparent;\n",
              "      border-bottom-color: var(--fill-color);\n",
              "      border-left-color: var(--fill-color);\n",
              "    }\n",
              "    20% {\n",
              "      border-color: transparent;\n",
              "      border-left-color: var(--fill-color);\n",
              "      border-top-color: var(--fill-color);\n",
              "    }\n",
              "    30% {\n",
              "      border-color: transparent;\n",
              "      border-left-color: var(--fill-color);\n",
              "      border-top-color: var(--fill-color);\n",
              "      border-right-color: var(--fill-color);\n",
              "    }\n",
              "    40% {\n",
              "      border-color: transparent;\n",
              "      border-right-color: var(--fill-color);\n",
              "      border-top-color: var(--fill-color);\n",
              "    }\n",
              "    60% {\n",
              "      border-color: transparent;\n",
              "      border-right-color: var(--fill-color);\n",
              "    }\n",
              "    80% {\n",
              "      border-color: transparent;\n",
              "      border-right-color: var(--fill-color);\n",
              "      border-bottom-color: var(--fill-color);\n",
              "    }\n",
              "    90% {\n",
              "      border-color: transparent;\n",
              "      border-bottom-color: var(--fill-color);\n",
              "    }\n",
              "  }\n",
              "</style>\n",
              "\n",
              "      <script>\n",
              "        async function quickchart(key) {\n",
              "          const quickchartButtonEl =\n",
              "            document.querySelector('#' + key + ' button');\n",
              "          quickchartButtonEl.disabled = true;  // To prevent multiple clicks.\n",
              "          quickchartButtonEl.classList.add('colab-df-spinner');\n",
              "          try {\n",
              "            const charts = await google.colab.kernel.invokeFunction(\n",
              "                'suggestCharts', [key], {});\n",
              "          } catch (error) {\n",
              "            console.error('Error during call to suggestCharts:', error);\n",
              "          }\n",
              "          quickchartButtonEl.classList.remove('colab-df-spinner');\n",
              "          quickchartButtonEl.classList.add('colab-df-quickchart-complete');\n",
              "        }\n",
              "        (() => {\n",
              "          let quickchartButtonEl =\n",
              "            document.querySelector('#df-e67521b4-1306-4c88-aa15-4aea3b60bb73 button');\n",
              "          quickchartButtonEl.style.display =\n",
              "            google.colab.kernel.accessAllowed ? 'block' : 'none';\n",
              "        })();\n",
              "      </script>\n",
              "    </div>\n",
              "\n",
              "    </div>\n",
              "  </div>\n"
            ],
            "application/vnd.google.colaboratory.intrinsic+json": {
              "type": "dataframe",
              "variable_name": "df",
              "summary": "{\n  \"name\": \"df\",\n  \"rows\": 6607,\n  \"fields\": [\n    {\n      \"column\": \"Hours_Studied\",\n      \"properties\": {\n        \"dtype\": \"number\",\n        \"std\": 5,\n        \"min\": 1,\n        \"max\": 44,\n        \"num_unique_values\": 41,\n        \"samples\": [\n          27,\n          20,\n          10\n        ],\n        \"semantic_type\": \"\",\n        \"description\": \"\"\n      }\n    },\n    {\n      \"column\": \"Attendance\",\n      \"properties\": {\n        \"dtype\": \"number\",\n        \"std\": 11,\n        \"min\": 60,\n        \"max\": 100,\n        \"num_unique_values\": 41,\n        \"samples\": [\n          72,\n          60,\n          80\n        ],\n        \"semantic_type\": \"\",\n        \"description\": \"\"\n      }\n    },\n    {\n      \"column\": \"Parental_Involvement\",\n      \"properties\": {\n        \"dtype\": \"category\",\n        \"num_unique_values\": 3,\n        \"samples\": [\n          \"Low\",\n          \"Medium\",\n          \"High\"\n        ],\n        \"semantic_type\": \"\",\n        \"description\": \"\"\n      }\n    },\n    {\n      \"column\": \"Access_to_Resources\",\n      \"properties\": {\n        \"dtype\": \"category\",\n        \"num_unique_values\": 3,\n        \"samples\": [\n          \"High\",\n          \"Medium\",\n          \"Low\"\n        ],\n        \"semantic_type\": \"\",\n        \"description\": \"\"\n      }\n    },\n    {\n      \"column\": \"Extracurricular_Activities\",\n      \"properties\": {\n        \"dtype\": \"category\",\n        \"num_unique_values\": 2,\n        \"samples\": [\n          \"Yes\",\n          \"No\"\n        ],\n        \"semantic_type\": \"\",\n        \"description\": \"\"\n      }\n    },\n    {\n      \"column\": \"Sleep_Hours\",\n      \"properties\": {\n        \"dtype\": \"number\",\n        \"std\": 1,\n        \"min\": 4,\n        \"max\": 10,\n        \"num_unique_values\": 7,\n        \"samples\": [\n          7,\n          8\n        ],\n        \"semantic_type\": \"\",\n        \"description\": \"\"\n      }\n    },\n    {\n      \"column\": \"Previous_Scores\",\n      \"properties\": {\n        \"dtype\": \"number\",\n        \"std\": 14,\n        \"min\": 50,\n        \"max\": 100,\n        \"num_unique_values\": 51,\n        \"samples\": [\n          64,\n          62\n        ],\n        \"semantic_type\": \"\",\n        \"description\": \"\"\n      }\n    },\n    {\n      \"column\": \"Motivation_Level\",\n      \"properties\": {\n        \"dtype\": \"category\",\n        \"num_unique_values\": 3,\n        \"samples\": [\n          \"Low\",\n          \"Medium\"\n        ],\n        \"semantic_type\": \"\",\n        \"description\": \"\"\n      }\n    },\n    {\n      \"column\": \"Internet_Access\",\n      \"properties\": {\n        \"dtype\": \"category\",\n        \"num_unique_values\": 2,\n        \"samples\": [\n          \"No\",\n          \"Yes\"\n        ],\n        \"semantic_type\": \"\",\n        \"description\": \"\"\n      }\n    },\n    {\n      \"column\": \"Tutoring_Sessions\",\n      \"properties\": {\n        \"dtype\": \"number\",\n        \"std\": 1,\n        \"min\": 0,\n        \"max\": 8,\n        \"num_unique_values\": 9,\n        \"samples\": [\n          7,\n          2\n        ],\n        \"semantic_type\": \"\",\n        \"description\": \"\"\n      }\n    },\n    {\n      \"column\": \"Family_Income\",\n      \"properties\": {\n        \"dtype\": \"category\",\n        \"num_unique_values\": 3,\n        \"samples\": [\n          \"Low\",\n          \"Medium\"\n        ],\n        \"semantic_type\": \"\",\n        \"description\": \"\"\n      }\n    },\n    {\n      \"column\": \"Teacher_Quality\",\n      \"properties\": {\n        \"dtype\": \"category\",\n        \"num_unique_values\": 3,\n        \"samples\": [\n          \"Medium\",\n          \"High\"\n        ],\n        \"semantic_type\": \"\",\n        \"description\": \"\"\n      }\n    },\n    {\n      \"column\": \"School_Type\",\n      \"properties\": {\n        \"dtype\": \"category\",\n        \"num_unique_values\": 2,\n        \"samples\": [\n          \"Private\",\n          \"Public\"\n        ],\n        \"semantic_type\": \"\",\n        \"description\": \"\"\n      }\n    },\n    {\n      \"column\": \"Peer_Influence\",\n      \"properties\": {\n        \"dtype\": \"category\",\n        \"num_unique_values\": 3,\n        \"samples\": [\n          \"Positive\",\n          \"Negative\"\n        ],\n        \"semantic_type\": \"\",\n        \"description\": \"\"\n      }\n    },\n    {\n      \"column\": \"Physical_Activity\",\n      \"properties\": {\n        \"dtype\": \"number\",\n        \"std\": 1,\n        \"min\": 0,\n        \"max\": 6,\n        \"num_unique_values\": 7,\n        \"samples\": [\n          3,\n          4\n        ],\n        \"semantic_type\": \"\",\n        \"description\": \"\"\n      }\n    },\n    {\n      \"column\": \"Learning_Disabilities\",\n      \"properties\": {\n        \"dtype\": \"category\",\n        \"num_unique_values\": 2,\n        \"samples\": [\n          \"Yes\",\n          \"No\"\n        ],\n        \"semantic_type\": \"\",\n        \"description\": \"\"\n      }\n    },\n    {\n      \"column\": \"Parental_Education_Level\",\n      \"properties\": {\n        \"dtype\": \"category\",\n        \"num_unique_values\": 3,\n        \"samples\": [\n          \"High School\",\n          \"College\"\n        ],\n        \"semantic_type\": \"\",\n        \"description\": \"\"\n      }\n    },\n    {\n      \"column\": \"Distance_from_Home\",\n      \"properties\": {\n        \"dtype\": \"category\",\n        \"num_unique_values\": 3,\n        \"samples\": [\n          \"Near\",\n          \"Moderate\"\n        ],\n        \"semantic_type\": \"\",\n        \"description\": \"\"\n      }\n    },\n    {\n      \"column\": \"Gender\",\n      \"properties\": {\n        \"dtype\": \"category\",\n        \"num_unique_values\": 2,\n        \"samples\": [\n          \"Female\",\n          \"Male\"\n        ],\n        \"semantic_type\": \"\",\n        \"description\": \"\"\n      }\n    },\n    {\n      \"column\": \"Exam_Score\",\n      \"properties\": {\n        \"dtype\": \"number\",\n        \"std\": 3,\n        \"min\": 55,\n        \"max\": 101,\n        \"num_unique_values\": 45,\n        \"samples\": [\n          96,\n          84\n        ],\n        \"semantic_type\": \"\",\n        \"description\": \"\"\n      }\n    }\n  ]\n}"
            }
          },
          "metadata": {},
          "execution_count": 68
        }
      ]
    },
    {
      "cell_type": "markdown",
      "source": [
        "## 🔍 Aperçu général du dataset  \n",
        "## Cette section permet d’obtenir une première idée de la taille, des types de variables  \n",
        "## et des statistiques descriptives du jeu de données.  \n",
        "\n",
        "## 🔍 General overview of the dataset  \n",
        "## This section provides an initial look at the dataset’s size, variable types,  \n",
        "## and basic descriptive statistics.\n"
      ],
      "metadata": {
        "id": "WtpA8RaArjQK"
      }
    },
    {
      "cell_type": "code",
      "source": [
        "# Aperçu général\n",
        "print(df.shape)\n",
        "print(df.info())\n",
        "print(df.describe())"
      ],
      "metadata": {
        "colab": {
          "base_uri": "https://localhost:8080/"
        },
        "id": "5JyoxQqLQFjG",
        "outputId": "921ee0ae-72de-42eb-8156-0a870149778c"
      },
      "execution_count": 69,
      "outputs": [
        {
          "output_type": "stream",
          "name": "stdout",
          "text": [
            "(6607, 20)\n",
            "<class 'pandas.core.frame.DataFrame'>\n",
            "RangeIndex: 6607 entries, 0 to 6606\n",
            "Data columns (total 20 columns):\n",
            " #   Column                      Non-Null Count  Dtype \n",
            "---  ------                      --------------  ----- \n",
            " 0   Hours_Studied               6607 non-null   int64 \n",
            " 1   Attendance                  6607 non-null   int64 \n",
            " 2   Parental_Involvement        6607 non-null   object\n",
            " 3   Access_to_Resources         6607 non-null   object\n",
            " 4   Extracurricular_Activities  6607 non-null   object\n",
            " 5   Sleep_Hours                 6607 non-null   int64 \n",
            " 6   Previous_Scores             6607 non-null   int64 \n",
            " 7   Motivation_Level            6607 non-null   object\n",
            " 8   Internet_Access             6607 non-null   object\n",
            " 9   Tutoring_Sessions           6607 non-null   int64 \n",
            " 10  Family_Income               6607 non-null   object\n",
            " 11  Teacher_Quality             6529 non-null   object\n",
            " 12  School_Type                 6607 non-null   object\n",
            " 13  Peer_Influence              6607 non-null   object\n",
            " 14  Physical_Activity           6607 non-null   int64 \n",
            " 15  Learning_Disabilities       6607 non-null   object\n",
            " 16  Parental_Education_Level    6517 non-null   object\n",
            " 17  Distance_from_Home          6540 non-null   object\n",
            " 18  Gender                      6607 non-null   object\n",
            " 19  Exam_Score                  6607 non-null   int64 \n",
            "dtypes: int64(7), object(13)\n",
            "memory usage: 1.0+ MB\n",
            "None\n",
            "       Hours_Studied   Attendance  Sleep_Hours  Previous_Scores  \\\n",
            "count    6607.000000  6607.000000   6607.00000      6607.000000   \n",
            "mean       19.975329    79.977448      7.02906        75.070531   \n",
            "std         5.990594    11.547475      1.46812        14.399784   \n",
            "min         1.000000    60.000000      4.00000        50.000000   \n",
            "25%        16.000000    70.000000      6.00000        63.000000   \n",
            "50%        20.000000    80.000000      7.00000        75.000000   \n",
            "75%        24.000000    90.000000      8.00000        88.000000   \n",
            "max        44.000000   100.000000     10.00000       100.000000   \n",
            "\n",
            "       Tutoring_Sessions  Physical_Activity   Exam_Score  \n",
            "count        6607.000000        6607.000000  6607.000000  \n",
            "mean            1.493719           2.967610    67.235659  \n",
            "std             1.230570           1.031231     3.890456  \n",
            "min             0.000000           0.000000    55.000000  \n",
            "25%             1.000000           2.000000    65.000000  \n",
            "50%             1.000000           3.000000    67.000000  \n",
            "75%             2.000000           4.000000    69.000000  \n",
            "max             8.000000           6.000000   101.000000  \n"
          ]
        }
      ]
    },
    {
      "cell_type": "code",
      "source": [
        "# Vérifier les valeurs manquantes\n",
        "print(df.isnull().sum())\n",
        "\n"
      ],
      "metadata": {
        "colab": {
          "base_uri": "https://localhost:8080/"
        },
        "id": "ciBJh_x0QHxj",
        "outputId": "12390742-2cc1-417a-c809-39d9a90d7b83"
      },
      "execution_count": 71,
      "outputs": [
        {
          "output_type": "stream",
          "name": "stdout",
          "text": [
            "Hours_Studied                  0\n",
            "Attendance                     0\n",
            "Parental_Involvement           0\n",
            "Access_to_Resources            0\n",
            "Extracurricular_Activities     0\n",
            "Sleep_Hours                    0\n",
            "Previous_Scores                0\n",
            "Motivation_Level               0\n",
            "Internet_Access                0\n",
            "Tutoring_Sessions              0\n",
            "Family_Income                  0\n",
            "Teacher_Quality               78\n",
            "School_Type                    0\n",
            "Peer_Influence                 0\n",
            "Physical_Activity              0\n",
            "Learning_Disabilities          0\n",
            "Parental_Education_Level       0\n",
            "Distance_from_Home            67\n",
            "Gender                         0\n",
            "Exam_Score                     0\n",
            "dtype: int64\n"
          ]
        }
      ]
    },
    {
      "cell_type": "markdown",
      "source": [
        "## 🧹 Traitement des valeurs manquantes (NA)  \n",
        "## Ici, on remplace les valeurs manquantes des colonnes \"Parental_Education_Level\",  \n",
        "## \"Teacher_Quality\" et \"Distance_from_Home\" par la valeur la plus fréquente (mode).  \n",
        "## Cela permet de garder la cohérence des données sans supprimer de lignes.  \n",
        "## 🧹 Handling missing values (NA)  \n",
        "## Here, missing values in the columns \"Parental_Education_Level\",  \n",
        "## \"Teacher_Quality\", and \"Distance_from_Home\" are replaced with the most frequent value (mode).  \n",
        "## This keeps the dataset consistent without deleting any rows.\n"
      ],
      "metadata": {
        "id": "Zg9cUGdNsogG"
      }
    },
    {
      "cell_type": "code",
      "source": [
        "df[\"Parental_Education_Level\"].fillna(df[\"Parental_Education_Level\"].mode()[0], inplace=True)\n"
      ],
      "metadata": {
        "colab": {
          "base_uri": "https://localhost:8080/"
        },
        "id": "TZb4ngoRbuVz",
        "outputId": "4aafb498-f5c1-4f27-c560-8a7a866f364e"
      },
      "execution_count": 70,
      "outputs": [
        {
          "output_type": "stream",
          "name": "stderr",
          "text": [
            "/tmp/ipython-input-70237774.py:1: FutureWarning: A value is trying to be set on a copy of a DataFrame or Series through chained assignment using an inplace method.\n",
            "The behavior will change in pandas 3.0. This inplace method will never work because the intermediate object on which we are setting values always behaves as a copy.\n",
            "\n",
            "For example, when doing 'df[col].method(value, inplace=True)', try using 'df.method({col: value}, inplace=True)' or df[col] = df[col].method(value) instead, to perform the operation inplace on the original object.\n",
            "\n",
            "\n",
            "  df[\"Parental_Education_Level\"].fillna(df[\"Parental_Education_Level\"].mode()[0], inplace=True)\n"
          ]
        }
      ]
    },
    {
      "cell_type": "code",
      "source": [
        "df[\"Teacher_Quality\"].fillna(df[\"Teacher_Quality\"].mode()[0], inplace=True)\n"
      ],
      "metadata": {
        "colab": {
          "base_uri": "https://localhost:8080/"
        },
        "id": "TKNvRW5EsVVo",
        "outputId": "c683053a-363c-4244-9bd6-735d646b4200"
      },
      "execution_count": 73,
      "outputs": [
        {
          "output_type": "stream",
          "name": "stderr",
          "text": [
            "/tmp/ipython-input-2539481264.py:1: FutureWarning: A value is trying to be set on a copy of a DataFrame or Series through chained assignment using an inplace method.\n",
            "The behavior will change in pandas 3.0. This inplace method will never work because the intermediate object on which we are setting values always behaves as a copy.\n",
            "\n",
            "For example, when doing 'df[col].method(value, inplace=True)', try using 'df.method({col: value}, inplace=True)' or df[col] = df[col].method(value) instead, to perform the operation inplace on the original object.\n",
            "\n",
            "\n",
            "  df[\"Teacher_Quality\"].fillna(df[\"Teacher_Quality\"].mode()[0], inplace=True)\n"
          ]
        }
      ]
    },
    {
      "cell_type": "code",
      "source": [
        "df[\"Distance_from_Home\"].fillna(df[\"Distance_from_Home\"].mode()[0], inplace=True)\n"
      ],
      "metadata": {
        "colab": {
          "base_uri": "https://localhost:8080/"
        },
        "id": "SwXOYjLGsOGQ",
        "outputId": "5d5a0ba4-1f44-4dfb-c830-f6f83884bf56"
      },
      "execution_count": 72,
      "outputs": [
        {
          "output_type": "stream",
          "name": "stderr",
          "text": [
            "/tmp/ipython-input-2521176608.py:1: FutureWarning: A value is trying to be set on a copy of a DataFrame or Series through chained assignment using an inplace method.\n",
            "The behavior will change in pandas 3.0. This inplace method will never work because the intermediate object on which we are setting values always behaves as a copy.\n",
            "\n",
            "For example, when doing 'df[col].method(value, inplace=True)', try using 'df.method({col: value}, inplace=True)' or df[col] = df[col].method(value) instead, to perform the operation inplace on the original object.\n",
            "\n",
            "\n",
            "  df[\"Distance_from_Home\"].fillna(df[\"Distance_from_Home\"].mode()[0], inplace=True)\n"
          ]
        }
      ]
    },
    {
      "cell_type": "code",
      "source": [
        "# Removing missing values\n",
        "# Supprimer ou remplir les valeurs manquantes\n",
        "df = df.dropna()"
      ],
      "metadata": {
        "id": "FCklgCMITgUB"
      },
      "execution_count": 54,
      "outputs": []
    },
    {
      "cell_type": "markdown",
      "source": [
        "## 📈 Visualisation de la relation entre les heures d’étude et le score à l’examen  \n",
        "## Ce graphique permet de voir si plus d’heures d’étude sont associées à un meilleur score.  \n",
        "## 📈 Visualizing the relationship between study hours and exam score  \n",
        "## This plot helps observe whether more study hours are linked to higher exam performance.\n"
      ],
      "metadata": {
        "id": "mUSyknhCs6kT"
      }
    },
    {
      "cell_type": "code",
      "source": [
        "# Visualiser quelques relations\n",
        "plt.scatter(df[\"Hours_Studied\"], df[\"Exam_Score\"], color='blue')\n",
        "plt.title(\"Relation entre heures d'étude et score\")\n",
        "plt.xlabel(\"Heures d'étude\")\n",
        "plt.ylabel(\"Score à l'examen\")\n",
        "plt.show()"
      ],
      "metadata": {
        "colab": {
          "base_uri": "https://localhost:8080/",
          "height": 472
        },
        "id": "s-wF5i1WQM9s",
        "outputId": "007918a0-7161-4b51-bc0b-f6030cd0e06d"
      },
      "execution_count": 56,
      "outputs": [
        {
          "output_type": "display_data",
          "data": {
            "text/plain": [
              "<Figure size 640x480 with 1 Axes>"
            ],
            "image/png": "[encoded data removed]"
          },
          "metadata": {}
        }
      ]
    },
    {
      "cell_type": "markdown",
      "source": [
        "## 🧩 Première version : prise en compte de **toutes les variables**  \n",
        "## Ici, on utilise toutes les colonnes du dataset (sauf `Exam_Score`) comme variables explicatives.  \n",
        "## Cela permet d'exploiter un maximum d'informations, mais certaines variables peuvent être inutiles ou bruitées.  \n",
        "##\n",
        "## 🧩 First version: using **all features**  \n",
        "## Here, all columns (except `Exam_Score`) are used as predictors.  \n",
        "## This approach leverages all available information, though some variables might add noise.\n"
      ],
      "metadata": {
        "id": "8cgbnBD3tl_v"
      }
    },
    {
      "cell_type": "code",
      "source": [
        "X = df.drop(\"Exam_Score\", axis=1)\n",
        "X = pd.get_dummies(X, drop_first=True)\n",
        "y = df[\"Exam_Score\"]\n"
      ],
      "metadata": {
        "id": "SlRf9mlQd7uQ"
      },
      "execution_count": 37,
      "outputs": []
    },
    {
      "cell_type": "code",
      "source": [
        "X_train, X_test, y_train, y_test = train_test_split(X, y, test_size=0.2, random_state=42)\n"
      ],
      "metadata": {
        "id": "v_xG6K12fCrH"
      },
      "execution_count": 38,
      "outputs": []
    },
    {
      "cell_type": "code",
      "source": [
        "print(X.dtypes)\n"
      ],
      "metadata": {
        "colab": {
          "base_uri": "https://localhost:8080/"
        },
        "id": "4lz9w3s3fs52",
        "outputId": "b9788392-8753-4458-f7a7-53fa70c6544d"
      },
      "execution_count": 40,
      "outputs": [
        {
          "output_type": "stream",
          "name": "stdout",
          "text": [
            "Hours_Studied                            int64\n",
            "Attendance                               int64\n",
            "Sleep_Hours                              int64\n",
            "Previous_Scores                          int64\n",
            "Tutoring_Sessions                        int64\n",
            "Physical_Activity                        int64\n",
            "Parental_Involvement_Low                  bool\n",
            "Parental_Involvement_Medium               bool\n",
            "Access_to_Resources_Low                   bool\n",
            "Access_to_Resources_Medium                bool\n",
            "Extracurricular_Activities_Yes            bool\n",
            "Motivation_Level_Low                      bool\n",
            "Motivation_Level_Medium                   bool\n",
            "Internet_Access_Yes                       bool\n",
            "Family_Income_Low                         bool\n",
            "Family_Income_Medium                      bool\n",
            "Teacher_Quality_Low                       bool\n",
            "Teacher_Quality_Medium                    bool\n",
            "School_Type_Public                        bool\n",
            "Peer_Influence_Neutral                    bool\n",
            "Peer_Influence_Positive                   bool\n",
            "Learning_Disabilities_Yes                 bool\n",
            "Parental_Education_Level_High School      bool\n",
            "Parental_Education_Level_Postgraduate     bool\n",
            "Distance_from_Home_Moderate               bool\n",
            "Distance_from_Home_Near                   bool\n",
            "Gender_Male                               bool\n",
            "dtype: object\n"
          ]
        }
      ]
    },
    {
      "cell_type": "markdown",
      "source": [
        "## 📈 Régression Linéaire — Entraînement et Évaluation  \n",
        "## On crée et entraîne un modèle de régression linéaire sur les données d’entraînement.  \n",
        "## Puis, on prédit les scores des étudiants sur les données de test et on évalue la performance du modèle.  \n",
        "##  \n",
        "## Les deux métriques affichées sont :  \n",
        "## 🔹 **R² (coefficient de détermination)** : indique la qualité de la prédiction (proche de 1 = très bon modèle).  \n",
        "## 🔹 **MSE (Mean Squared Error)** : mesure l’erreur moyenne au carré (plus petit = meilleur).  \n",
        "##\n",
        "## 📈 Linear Regression — Training and Evaluation  \n",
        "## We create and train a linear regression model on the training data.  \n",
        "## Then we predict student exam scores on the test data and evaluate the model’s performance.  \n",
        "##  \n",
        "## The two displayed metrics are:  \n",
        "## 🔹 **R² (coefficient of determination)**: shows how well the model explains the variance (closer to 1 = better).  \n",
        "## 🔹 **MSE (Mean Squared Error)**: measures the average squared prediction error (lower = better).\n"
      ],
      "metadata": {
        "id": "jzzC2Mi0tyFY"
      }
    },
    {
      "cell_type": "code",
      "source": [
        "lin_reg = LinearRegression()\n",
        "lin_reg.fit(X_train, y_train)\n",
        "\n",
        "y_pred_linear = lin_reg.predict(X_test)\n",
        "\n",
        "# Évaluation\n",
        "print(\"Linear Regression R2:\", r2_score(y_test, y_pred_linear))\n",
        "print(\"Linear Regression MSE:\", mean_squared_error(y_test, y_pred_linear))\n"
      ],
      "metadata": {
        "colab": {
          "base_uri": "https://localhost:8080/"
        },
        "id": "MntwTPdTfFrF",
        "outputId": "0cbd9f20-71d4-45b3-da27-988232705d01"
      },
      "execution_count": 41,
      "outputs": [
        {
          "output_type": "stream",
          "name": "stdout",
          "text": [
            "Linear Regression R2: 0.7696495724907312\n",
            "Linear Regression MSE: 3.2560199870428943\n"
          ]
        }
      ]
    },
    {
      "cell_type": "markdown",
      "source": [
        "## 🔢 Régression Polynomiale — Extension du modèle linéaire  \n",
        "## On crée un modèle polynomial pour capturer des relations non linéaires entre les variables.  \n",
        "## Ici, on utilise un **polynôme de degré 2**, ce qui permet d’ajouter des termes comme X² ou X₁·X₂.  \n",
        "## Le pipeline (`make_pipeline`) enchaîne automatiquement la transformation polynomial → régression linéaire.  \n",
        "##  \n",
        "## Ensuite, on évalue la performance du modèle comme précédemment avec :  \n",
        "## 🔹 **R²** : plus il est proche de 1, mieux le modèle explique la variance.  \n",
        "## 🔹 **MSE** : plus il est bas, plus les prédictions sont précises.  \n",
        "##\n",
        "## 🔢 Polynomial Regression — Extending the linear model  \n",
        "## We create a polynomial model to capture non-linear relationships between variables.  \n",
        "## Here, we use a **2nd-degree polynomial**, adding terms like X² or X₁·X₂.  \n",
        "## The pipeline (`make_pipeline`) automatically chains polynomial transformation → linear regression.  \n",
        "##  \n",
        "## Then, we evaluate the model’s performance as before using:  \n",
        "## 🔹 **R²**: closer to 1 means better fit.  \n",
        "## 🔹 **MSE**: lower means better accuracy.\n"
      ],
      "metadata": {
        "id": "LwBe7aTXt8ZW"
      }
    },
    {
      "cell_type": "code",
      "source": [
        "from sklearn.preprocessing import PolynomialFeatures\n",
        "from sklearn.pipeline import make_pipeline\n",
        "\n",
        "# Création d'un modèle polynomial (exemple : degré 2)\n",
        "poly_reg = make_pipeline(PolynomialFeatures(degree=2), LinearRegression())\n",
        "poly_reg.fit(X_train, y_train)\n",
        "\n",
        "# Prédictions\n",
        "y_pred_poly = poly_reg.predict(X_test)\n",
        "\n",
        "# Évaluation\n",
        "print(\"Polynomial Regression R2:\", r2_score(y_test, y_pred_poly))\n",
        "print(\"Polynomial Regression MSE:\", mean_squared_error(y_test, y_pred_poly))\n"
      ],
      "metadata": {
        "colab": {
          "base_uri": "https://localhost:8080/"
        },
        "id": "BXoJaIMihsvr",
        "outputId": "7e5f4324-dc55-4a42-fb14-0e977bd35ec6"
      },
      "execution_count": 42,
      "outputs": [
        {
          "output_type": "stream",
          "name": "stdout",
          "text": [
            "Polynomial Regression R2: 0.7471205766472764\n",
            "Polynomial Regression MSE: 3.5744689760352997\n"
          ]
        }
      ]
    },
    {
      "cell_type": "markdown",
      "source": [
        "## ⚖️ Comparaison des performances entre les deux modèles  \n",
        "## On affiche ici les métriques **R²** et **MSE** pour comparer la régression linéaire  \n",
        "## et la régression polynomiale (degré 2).  \n",
        "##  \n",
        "## 🔹 Si le **R²** est plus élevé, le modèle explique mieux les variations du score.  \n",
        "## 🔹 Si le **MSE** est plus faible, les prédictions sont plus précises.  \n",
        "##  \n",
        "## ⚖️ Comparing the performance of both models  \n",
        "## We display **R²** and **MSE** metrics to compare Linear Regression  \n",
        "## and Polynomial Regression (degree 2).  \n",
        "##  \n",
        "## 🔹 Higher **R²** → better model fit.  \n",
        "## 🔹 Lower **MSE** → more accurate predictions.\n"
      ],
      "metadata": {
        "id": "kN8MRiU0uGIG"
      }
    },
    {
      "cell_type": "code",
      "source": [
        "print(\"Comparaison des modèles :\")\n",
        "print(f\"Linear Regression  -> R2: {r2_score(y_test, y_pred_linear):.3f}, MSE: {mean_squared_error(y_test, y_pred_linear):.3f}\")\n",
        "print(f\"Polynomial (deg=2) -> R2: {r2_score(y_test, y_pred_poly):.3f}, MSE: {mean_squared_error(y_test, y_pred_poly):.3f}\")\n"
      ],
      "metadata": {
        "colab": {
          "base_uri": "https://localhost:8080/"
        },
        "id": "9uuL_EO0fshH",
        "outputId": "91b775e4-7458-4970-8ec0-04fb9e99eba4"
      },
      "execution_count": 44,
      "outputs": [
        {
          "output_type": "stream",
          "name": "stdout",
          "text": [
            "Comparaison des modèles :\n",
            "Linear Regression  -> R2: 0.770, MSE: 3.256\n",
            "Polynomial (deg=2) -> R2: 0.747, MSE: 3.574\n"
          ]
        }
      ]
    },
    {
      "cell_type": "markdown",
      "source": [
        "## 📊 Visualisation des prédictions des modèles  \n",
        "## Ce graphique compare les prédictions de la régression linéaire et polynomiale (degré 2)  \n",
        "## avec les valeurs réelles des scores d'examen.  \n",
        "## La ligne rouge en pointillé représente la situation idéale où la prédiction = valeur réelle.  \n",
        "##  \n",
        "## 🔹 Points proches de la ligne rouge → bonnes prédictions  \n",
        "## 🔹 Écarts importants → erreurs du modèle  \n",
        "##\n",
        "## 📊 Visualization of model predictions  \n",
        "## This plot compares the predictions from Linear Regression and Polynomial Regression (degree 2)  \n",
        "## with the actual exam scores.  \n",
        "## The red dashed line represents the ideal case where prediction = actual value.  \n",
        "##\n",
        "## 🔹 Points close to the red line → accurate predictions  \n",
        "## 🔹 Large deviations → model errors\n"
      ],
      "metadata": {
        "id": "4fYIb7hHuShv"
      }
    },
    {
      "cell_type": "code",
      "source": [
        "import matplotlib.pyplot as plt\n",
        "\n",
        "plt.figure(figsize=(6,6))\n",
        "plt.scatter(y_test, y_pred_poly, label=\"Polynomial (deg=2)\", alpha=0.7)\n",
        "plt.scatter(y_test, y_pred_linear, label=\"Linear\", alpha=0.7)\n",
        "\n",
        "plt.plot([y_test.min(), y_test.max()], [y_test.min(), y_test.max()], 'r--')\n",
        "plt.xlabel(\"Valeurs réelles\")\n",
        "plt.ylabel(\"Prédictions\")\n",
        "plt.legend()\n",
        "plt.title(\"Comparaison des modèles\")\n",
        "plt.show()\n"
      ],
      "metadata": {
        "colab": {
          "base_uri": "https://localhost:8080/",
          "height": 565
        },
        "id": "tvQAxh81h2Hy",
        "outputId": "f619f5ef-3b44-4a39-ebdf-394cdeebb87b"
      },
      "execution_count": 47,
      "outputs": [
        {
          "output_type": "display_data",
          "data": {
            "text/plain": [
              "<Figure size 600x600 with 1 Axes>"
            ],
            "image/png": "[encoded data removed]"
          },
          "metadata": {}
        }
      ]
    },
    {
      "cell_type": "markdown",
      "source": [
        "## 🧩 Deuxième version : sélection de variables  \n",
        "## Ici, on utilise seulement certaines colonnes comme prédicteurs : \"Hours_Studied\", \"Sleep_Hours\" et \"Attendance\".  \n",
        "## Le reste du processus (train/test split, entraînement des modèles, évaluation) reste identique à la première version.  \n",
        "##\n",
        "## 🧩 Second version: feature selection  \n",
        "## Here, only specific columns are used as predictors: \"Hours_Studied\", \"Sleep_Hours\", and \"Attendance\".  \n",
        "## The rest of the process (train/test split, model training, evaluation) is the same as the first version.\n"
      ],
      "metadata": {
        "id": "AFApbDEEurQK"
      }
    },
    {
      "cell_type": "code",
      "source": [
        "X = df[[\"Hours_Studied\", \"Sleep_Hours\", \"Attendance\"]]\n",
        "y = df[\"Exam_Score\"]\n",
        "\n",
        "# Division en train/test\n",
        "X_train, X_test, y_train, y_test = train_test_split(X, y, test_size=0.2, random_state=42)\n"
      ],
      "metadata": {
        "id": "aMIskMOlQUVJ"
      },
      "execution_count": 74,
      "outputs": []
    },
    {
      "cell_type": "code",
      "source": [
        "lin_reg = LinearRegression()\n",
        "lin_reg.fit(X_train, y_train)\n",
        "y_pred_linear = lin_reg.predict(X_test)\n"
      ],
      "metadata": {
        "id": "bO7R_MbxRALZ"
      },
      "execution_count": 75,
      "outputs": []
    },
    {
      "cell_type": "code",
      "source": [
        "print(\"Linear Regression R2:\", r2_score(y_test, y_pred_linear))\n",
        "print(\"Linear Regression MSE:\", mean_squared_error(y_test, y_pred_linear))\n"
      ],
      "metadata": {
        "colab": {
          "base_uri": "https://localhost:8080/"
        },
        "id": "6EK5Lyxilywu",
        "outputId": "f509368b-6c6a-41fb-e6a3-a75c1e3dd446"
      },
      "execution_count": 76,
      "outputs": [
        {
          "output_type": "stream",
          "name": "stdout",
          "text": [
            "Linear Regression R2: 0.5884110279740731\n",
            "Linear Regression MSE: 5.817839948697\n"
          ]
        }
      ]
    },
    {
      "cell_type": "code",
      "source": [
        "poly_reg = make_pipeline(PolynomialFeatures(degree=2), LinearRegression())\n",
        "poly_reg.fit(X_train, y_train)\n",
        "y_pred_poly = poly_reg.predict(X_test)\n",
        "\n",
        "print(\"Polynomial Regression R2:\", r2_score(y_test, y_pred_poly))\n",
        "print(\"Polynomial Regression MSE:\", mean_squared_error(y_test, y_pred_poly))\n"
      ],
      "metadata": {
        "colab": {
          "base_uri": "https://localhost:8080/"
        },
        "id": "MlApm-KGl2sg",
        "outputId": "ab6a9ff5-e1db-4940-a250-8f22a738948a"
      },
      "execution_count": 77,
      "outputs": [
        {
          "output_type": "stream",
          "name": "stdout",
          "text": [
            "Polynomial Regression R2: 0.5876431312711112\n",
            "Polynomial Regression MSE: 5.8286942242451865\n"
          ]
        }
      ]
    },
    {
      "cell_type": "code",
      "source": [
        "print(f\"Linear Regression  -> R2: {r2_score(y_test, y_pred_linear):.3f}, MSE: {mean_squared_error(y_test, y_pred_linear):.3f}\")\n",
        "print(f\"Polynomial (deg=2) -> R2: {r2_score(y_test, y_pred_poly):.3f}, MSE: {mean_squared_error(y_test, y_pred_poly):.3f}\")\n"
      ],
      "metadata": {
        "colab": {
          "base_uri": "https://localhost:8080/"
        },
        "id": "UcxvaL0ql6E2",
        "outputId": "956ced1c-3688-43af-f255-7836cd7ce93b"
      },
      "execution_count": 78,
      "outputs": [
        {
          "output_type": "stream",
          "name": "stdout",
          "text": [
            "Linear Regression  -> R2: 0.588, MSE: 5.818\n",
            "Polynomial (deg=2) -> R2: 0.588, MSE: 5.829\n"
          ]
        }
      ]
    },
    {
      "cell_type": "code",
      "source": [
        "import matplotlib.pyplot as plt\n",
        "\n",
        "plt.figure(figsize=(6,6))\n",
        "plt.scatter(y_test, y_pred_poly, label=\"Polynomial (deg=2)\", alpha=0.7)\n",
        "plt.scatter(y_test, y_pred_linear, label=\"Linear\", alpha=0.7)\n",
        "\n",
        "plt.plot([y_test.min(), y_test.max()], [y_test.min(), y_test.max()], 'r--')\n",
        "plt.xlabel(\"Valeurs réelles\")\n",
        "plt.ylabel(\"Prédictions\")\n",
        "plt.legend()\n",
        "plt.title(\"Comparaison des modèles — Deuxième version\")\n",
        "plt.show()\n"
      ],
      "metadata": {
        "colab": {
          "base_uri": "https://localhost:8080/",
          "height": 565
        },
        "id": "wqEbSCHaunud",
        "outputId": "e98b5011-514b-48a4-81b5-2c991694e36c"
      },
      "execution_count": 79,
      "outputs": [
        {
          "output_type": "display_data",
          "data": {
            "text/plain": [
              "<Figure size 600x600 with 1 Axes>"
            ],
            "image/png": "[encoded data removed]"
          },
          "metadata": {}
        }
      ]
    }
  ]
}